{
 "cells": [
  {
   "cell_type": "markdown",
   "metadata": {},
   "source": [
    "# Solutions for Chapter 5. Bayesian Statistics\n",
    "+ date: 2017-05-08\n",
    "+ tags: mlapp, statistics\n",
    "+ author: Peijun Zhu\n",
    "+ status: draft\n",
    "+ slug: mlapp-ch5-sol"
   ]
  },
  {
   "cell_type": "markdown",
   "metadata": {},
   "source": [
    "## 5.1 Proof that a mixture of conjugate priors is indeed conjugate\n",
    "$$p(\\theta) =\\sum_k p(z = k)p(\\theta|z = k)$$\n",
    "\n",
    "\\begin{align}\n",
    "p(\\theta|D)&=\\frac{p(\\theta, D)}{p(D)}\\\\\n",
    "&=\\frac{\\sum_k p(\\theta, D,z=k)}{p(D)}\\\\\n",
    "&=\\frac{\\sum_k p(D,z=k)p(\\theta|D,z=k)}{p(D)}\\\\\n",
    "&=\\sum_k p(z=k|D)p(\\theta|D,z=k)\\\\\n",
    "p(z=k|D)&=\\frac{p(D,z=k)}{p(D)}\\\\\n",
    "&=\\frac{p(D,z=k)}{\\sum_i p(D,z=i)}\\\\\n",
    "&=\\frac{p(z=k)p(D|z=k)}{\\sum_i p(z=i)p(D|z=i)}\n",
    "\\end{align}"
   ]
  },
  {
   "cell_type": "code",
   "execution_count": null,
   "metadata": {
    "collapsed": true
   },
   "outputs": [],
   "source": []
  }
 ],
 "metadata": {
  "kernelspec": {
   "display_name": "Python 3.6",
   "language": "python",
   "name": "python_3.6"
  },
  "language_info": {
   "codemirror_mode": {
    "name": "ipython",
    "version": 3
   },
   "file_extension": ".py",
   "mimetype": "text/x-python",
   "name": "python",
   "nbconvert_exporter": "python",
   "pygments_lexer": "ipython3",
   "version": "3.6.1"
  }
 },
 "nbformat": 4,
 "nbformat_minor": 2
}
