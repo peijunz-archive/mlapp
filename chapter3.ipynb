{
 "cells": [
  {
   "cell_type": "markdown",
   "metadata": {},
   "source": [
    "# Chapter 3 Generative models for discrete data\n",
    "+ date: 2017-03-09\n",
    "+ tags: mlapp, Bayers\n",
    "+ author: Peijun Zhu"
   ]
  },
  {
   "cell_type": "markdown",
   "metadata": {},
   "source": [
    "### Solutions by [Peijun Zhu](https://github.com/peijunz/mlapp)"
   ]
  },
  {
   "cell_type": "markdown",
   "metadata": {},
   "source": [
    "## 3.1\n",
    "$p'/p=N_1/\\theta-N_0/(1-\\theta)=0\\quad\\Rightarrow \\theta=N_1/(N_0+N_1)$"
   ]
  },
  {
   "cell_type": "markdown",
   "metadata": {},
   "source": [
    "## 3.2, 3.3 Obvious\n",
    "(3.90) should be $\\Gamma(x+1)=x\\Gamma(x)$"
   ]
  },
  {
   "cell_type": "markdown",
   "metadata": {},
   "source": [
    "## 3.4\n",
    "$\\DeclareMathOperator{\\Beta}{Beta}\\Beta(\\theta|1,1)=\\operatorname {Unif}(0,1)$, $\\theta$ is probability for heads.\n",
    "$$P(\\theta|X<3)=\\frac{P(\\theta,X<3)}{P(X<3)}$$\n",
    "\n",
    "\\begin{align}\n",
    "P(\\theta,X<3)&= P(X<3|\\theta)\\\\\n",
    "&=\\sum_{i=0}^2\\binom{5}{i}\\theta^i(1-\\theta)^{5-i}\\\\\n",
    "&=(1+3\\theta+6\\theta^2)(1-\\theta)^3\n",
    "\\end{align}\n",
    "\n",
    "$$P(X<3)=\\int_0^1 (1+3\\theta+6\\theta^2)(1-\\theta)^3d\\theta=\\frac{1}{2}$$\n",
    "\n",
    "$$P(\\theta|X<3)=2(1+3\\theta+6\\theta^2)(1-\\theta)^3$$"
   ]
  },
  {
   "cell_type": "markdown",
   "metadata": {},
   "source": [
    "## 3.5\n",
    "\\begin{align}\n",
    "p(\\theta)&\\propto p(\\phi(\\theta))\\frac{d\\phi}{d\\theta}\\\\\n",
    "&\\propto \\frac{1}{\\theta}+\\frac{1}{1-\\theta}\\\\\n",
    "&\\propto \\theta^{-1}(1-\\theta)^{-1}\\\\\n",
    "&\\propto\\Beta(\\theta|0,0)\n",
    "\\end{align}"
   ]
  },
  {
   "cell_type": "markdown",
   "metadata": {},
   "source": [
    "## 3.6\n",
    "Suppose we have data set  $\\mathcal{D}={x_1,x_2,\\ldots,x_n}$\n",
    "\n",
    "Log-Likelihood is\n",
    "$$\\ln L=-n\\lambda+\\sum x_i\\ln\\lambda-\\sum\\ln(x_i!)$$\n",
    "$$d\\ln L/d\\lambda=\\sum x_i/\\lambda-n=0\\Rightarrow \\lambda=\\bar x$$"
   ]
  },
  {
   "cell_type": "markdown",
   "metadata": {},
   "source": [
    "## 3.7\n",
    "### a.\n",
    "\\begin{align}\n",
    "p(\\lambda|D)&\\propto p(D|\\lambda)p(\\lambda)\\\\\n",
    "&\\propto e^{-(n+b)\\lambda}\\lambda^{n\\bar x+a-1}\\\\\n",
    "&\\propto \\operatorname{Ga}(\\lambda|n\\bar x+a,n+b)\n",
    "\\end{align}\n",
    "### b.\n",
    "$$\\bar\\lambda=\\frac{n\\bar x+a}{n+b}$$\n",
    "It will go to $\\bar x$, which is the MLE given in 3.6 "
   ]
  },
  {
   "cell_type": "markdown",
   "metadata": {},
   "source": [
    "## 3.8\n",
    "The MLE is $\\hat a=\\max{|x_i|}$. As $$L=\\prod_i I(a\\geq |x_i|)\\frac{1}{2a}=\\frac{I(a\\geq \\max{|x_i|})}{2^na^n}$$\n",
    "\n",
    "The problem is that $\\hat a$ in at the edge of probable $a$. So it is always smaller than real value, i.e. biased."
   ]
  },
  {
   "cell_type": "markdown",
   "metadata": {},
   "source": [
    "## 3.9\n",
    "There is an error in exercise. Theer should be $I(\\theta>b)$ term in the pdf. Define $M=\\max\\{x_1,x_2,\\ldots,x_n,b\\}$\n",
    "\n",
    " $$p(\\theta|D)=\\frac{p(\\theta,D)}{p(D)}=\\frac{(N+K)M^{N+K}}{\\theta^{N+K+1}}I(\\theta>M)$$\n",
    " \n",
    " It is a Pareto dist start at $M$ with exponent $N+K$"
   ]
  },
  {
   "cell_type": "markdown",
   "metadata": {},
   "source": [
    "## 3.15\n",
    "$$m=\\frac{a}{a+b},\\quad v=\\frac{ab}{(a+b)^2(a+b+1)}$$\n",
    "\n",
    "We have $$v=\\frac{m(1-m)}{a+b+1}\\quad\\Rightarrow\\quad a+b=\\frac{m(1-m)-v}{v}$$\n",
    "\n",
    "As a result\n",
    "$$a=\\left[\\frac{m(1-m)-v}{v}\\right]m, \\quad b=\\left[\\frac{m(1-m)-v}{v}\\right](1-m)$$"
   ]
  },
  {
   "cell_type": "markdown",
   "metadata": {},
   "source": [
    "## 3.16\n",
    "$$\\frac{a}{m}=\\frac{b}{1-m}=k$$\n",
    "\n",
    "So the probability inside $[l,u]$ is \n",
    "$$p(k)=\\int_l^u \\frac{x^{mk-1}(1-x)^{(1-m)k-1}}{B[mk, (1-m)k]}dx=0.95$$\n",
    "\n",
    "With $l=0.05,u=0.3,m=0.15$ given, we can find root $k=30.0404$, that is\n",
    "$$a=4.50606, \\quad b=25.5343$$"
   ]
  },
  {
   "cell_type": "markdown",
   "metadata": {},
   "source": [
    "## 3.17\n",
    "$$p(N_1|N,\\theta)= \\binom{N}{N_1}\\theta^{N_1}(1-\\theta)^{N-N_1}$$\n",
    "So we find\n",
    "\n",
    "\\begin{align}\n",
    "p(N_1|N)&=\\binom{N}{N_1}\\int \\theta^{N_1}(1-\\theta)^{N-N_1}d\\theta\\\\\n",
    "&=\\binom{N}{N_1}B(N_1+1, N-N_1+1)\\\\\n",
    "&=1/(N+1)\n",
    "\\end{align}"
   ]
  },
  {
   "cell_type": "markdown",
   "metadata": {},
   "source": [
    "## 3.19\n",
    "### a.\n",
    "We have $P(c|x)=P(x|c)P(c)/P(x)$. As $P(x),P(c)=0.5$ won't affect the ratio, $$K=\\log\\frac{P(c=1|x)}{P(c=2|x)}\\propto \\log\\frac{P(x|c=1)}{P(x|c=2)}=\\mathbf{\\phi}^T(\\mathbf{\\beta}_1-\\mathbf{\\beta}_2)$$\n",
    "\n",
    "Define $$K_w=x_w\\log\\frac{\\theta_{1w}}{\\theta_{2w}}+(1-x_w)\\log\\frac{1-\\theta_{1w}}{1-\\theta_{2w}},$$ then $$K=\\sum_w K_w$$\n",
    "### b.\n",
    "For indiscrimitive word, $K_w$ should not be changed significantly by $x_w$, so if\n",
    "$$\\delta_w=\\log \\frac{\\theta_{1w}(1-\\theta_{2w})}{\\theta_{2w}(1-\\theta_{1w})}=\\beta_{1w}-\\beta_{2w}$$\n",
    "is small enough, we may consider $w$ irrevalent. \n",
    "### c.\n",
    "$$\\hat\\theta_{cw}=\\frac{1+n_c}{2+n_c}$$\n",
    "\n",
    "So, $\\beta_{1w}-\\beta_{2w}$ will be heavily affected by $n_2/n_1$. It will not be ignored. The reason is that the word is strongly affected by regularization to the class. \n",
    "\n",
    "Consider the postorior distribution of $\\theta$\n",
    "$$L(\\theta)=\\operatorname{Beta}(k,n-k), \\qquad k=n_{cw}+1, \\quad n=n_w+2$$\n",
    "\n",
    "\n",
    "$$\\bar\\theta=k/n,\\quad \\sigma=\\frac{1}{n}\\sqrt{\\frac{k(n-k)}{(n+1)}}$$\n",
    "\n",
    "We need $$0<\\bar\\theta\\pm A\\sigma< 1$$\n",
    "\n",
    "$$\\Rightarrow \\sqrt k>A,\\quad \\sqrt{n-k}>A$$\n",
    "\n",
    "i.e. $$n_{cw}>A^2, \\quad n_c-n_{cw}>A^2$$\n",
    "\n",
    "### d.\n",
    "Now we begin to consider the variance of $K_w$ because of the keyword $w$:\n",
    "$$\\sigma^2_w=\\delta_w\\theta_w(1-\\theta_w)$$\n",
    "The variance of $K$ is\n",
    "$$\\sigma^2=\\sum_w \\sigma_w^2$$\n",
    "We can select keywords with largest $\\sigma_w^2=\\delta_w\\theta_w(1-\\theta_w)$, and (a.) is a special case of this criteria."
   ]
  },
  {
   "cell_type": "markdown",
   "metadata": {},
   "source": [
    "## 3.20\n",
    "### a.\n",
    "$$p(x|y=c)=p(x_1|\\theta_{jc})p(x_2|x_1,\\theta_{jc})\\cdots p(x_D|x_{D-1},\\ldots x_1,\\theta_{jc})$$\n",
    "So the number of parameters we need is $$(2+2^2+\\cdots + 2^{D})C=(2^{D+1}-2)C$$\n",
    "### b. c.\n",
    "Naive Bayers will be better for small data set, while Full Bayers is more accurate for large data set. Because there are few parameters, so we tend to get better estimation in naive case. Conversely, the full case need much more data to train the parameters.\n",
    "### d.\n",
    "+ $O(ND)$ for naive\n",
    "+ $O(N2^D)$ for full\n",
    "\n",
    "### e.\n",
    "+ linear $O(D)$ for naive model\n",
    "+ quadratic $O(D^2)$ for full\n",
    "\n",
    "### f. What does missing data mean?"
   ]
  },
  {
   "cell_type": "markdown",
   "metadata": {},
   "source": [
    "## 3.21\n",
    "\\begin{align}\n",
    "I&=\\sum_{x_j}\\sum_y p(x_j|y)p(y)\\log\\frac{p(x_j|y)}{p(x_j)}\\\\\n",
    "&=\\sum_c\\pi_c\\sum_{x_j} \\theta_{jc}^{x_j}(1-\\theta)_{jc}^{1-x_j}\\log\\frac{\\theta_{jc}^{x_j}(1-\\theta)_{jc}^{1-x_j}}{\\sum_c\\pi_c \\theta_{jc}^{x_j}(1-\\theta)_{jc}^{1-x_j}}\\\\\n",
    "&=\\sum_c \\pi_c\\left[\\theta_{jc}\\log\\frac{\\theta_{jc}}{\\sum_c \\pi_c\\theta_{jc}}+\\sum_c (1-\\theta_{jc})\\log\\frac{1-\\theta_{jc}}{\\sum_c \\pi_c(1-\\theta_{jc})}\\right]\\\\\n",
    "&=\\sum_c \\pi_c\\left[\\theta_{jc}\\log\\frac{\\theta_{jc}}{\\theta_{j}}+\\sum_c (1-\\theta_{jc})\\log\\frac{1-\\theta_{jc}}{1-\\theta_{j}}\\right]\n",
    "\\end{align}"
   ]
  },
  {
   "cell_type": "markdown",
   "metadata": {},
   "source": [
    "## 3.22\n",
    "In 3 spam messages, we find:\n",
    "+ secret x 2\n",
    "+ dollar x 1\n",
    "\n",
    "In 4 non-spam messages, we find:\n",
    "+ secret x 1\n",
    "+ sports x 2\n",
    "\n",
    "As a result, we can get MLEs:\n",
    "+ $\\theta_{\\mathrm{spam}}=3/7$\n",
    "+ $\\theta_{\\mathrm{secret|spam}}=2/3$\n",
    "+ $\\theta_{\\mathrm{secret|non-spam}}=1/4$\n",
    "+ $\\theta_{\\mathrm{sports|non-spam}}=2/4=1/2$\n",
    "+ $\\theta_{\\mathrm{dollar|spam}}=1/3$"
   ]
  }
 ],
 "metadata": {
  "kernelspec": {
   "display_name": "Python 3",
   "language": "python",
   "name": "python3"
  },
  "language_info": {
   "codemirror_mode": {
    "name": "ipython",
    "version": 3
   },
   "file_extension": ".py",
   "mimetype": "text/x-python",
   "name": "python",
   "nbconvert_exporter": "python",
   "pygments_lexer": "ipython3",
   "version": "3.6.0"
  }
 },
 "nbformat": 4,
 "nbformat_minor": 2
}
