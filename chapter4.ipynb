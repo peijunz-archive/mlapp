{
 "cells": [
  {
   "cell_type": "markdown",
   "metadata": {},
   "source": [
    "# Chapter 4. Gaussian Models"
   ]
  },
  {
   "cell_type": "markdown",
   "metadata": {},
   "source": [
    "### Notes by [Peijun Zhu](https://github.com/peijunz/mlapp)\n",
    "This block is defining some frequently used macros. Removing this block will result in rendering issues.\n",
    "$\n",
    "\\DeclareMathOperator{\\Var}{Var} % Variance\n",
    "\\DeclareMathOperator{\\det}{det} % Determinant\n",
    "\\DeclareMathOperator{\\tr}{tr}   % Trace\n",
    "\\DeclareMathOperator{\\Var}{Var} % Variance\n",
    "\\DeclareMathOperator{\\Var}{Var} % Variance\n",
    "\\DeclareMathOperator{\\Var}{Var} % Variance\n",
    "\\DeclareMathOperator{\\E}{E}     % Expectation\n",
    "\\DeclareMathOperator{\\Cov}{Cov} % Covariance\n",
    "\\DeclareMathOperator{\\Beta}{B}  % Beta function\n",
    "\\DeclareMathOperator{\\Bdist}{Beta}  % Beta distribution\n",
    "\\newcommand{\\pp}{\\partial}      % Partial derivative\n",
    "\\newcommand{\\dd}{\\mathrm{d}}      % Partial derivative\n",
    "\\newcommand{\\pfr}[2]{\\frac{\\pp #1}{\\pp #2}}      % Partial derivative\n",
    "\\newcommand{\\dfr}[2]{\\frac{\\dd #1}{\\dd #2}}      % Total derivative\n",
    "\\newcommand{\\ba}{\\begin{align}}      % Partial derivative\n",
    "\\newcommand{\\ea}{\\end{align}}      % Partial derivative\n",
    "\\newcommand{\\inv}[1]{#1^{-1}}   % Inverse Matrix\n",
    "\\newcommand{\\invt}[1]{#1^{-T}}  % Inverse Transposed Matrix\n",
    "\\DeclareMathOperator{\\ii}{i}    % Imaginary number\n",
    "\\DeclareMathOperator{\\rhs}{RHS}\n",
    "\\DeclareMathOperator{\\lhs}{LHS}\n",
    "\\renewcommand{\\nl}{\\\\&\\phantom{{}={}}}% Newline In aligned equations\n",
    "$"
   ]
  },
  {
   "cell_type": "markdown",
   "metadata": {},
   "source": [
    "## Matrix derivative\n",
    "We are using Einstein's summation rule below: sum over repeating index. It is useful in evaluating matrix/tensor.\n",
    "$$\\ba\n",
    "\\delta |A|\n",
    "&=|A+\\delta A|-|A|\\\\\n",
    "&=|D+\\inv U\\delta A\\inv V|-|A|\\\\\n",
    "&=|D||I+\\inv A\\delta A|-|A|\\\\\n",
    "&=|A|\\tr(\\inv A\\delta A)\n",
    "\\ea$$\n",
    "\n",
    "Using\n",
    "$$\\ba\n",
    "\\pfr{|A|}{A}&=e_ie_j^T\\pfr{|A|}{A_{ij}}\\\\\n",
    "&=e_ie_j^T|A|\\tr(\\inv A\\pfr{A}{A_{ij}})\\\\\n",
    "&=e_ie_j^T|A|\\tr(\\inv Ae_ie_j)\\\\\n",
    "&=e_ie_j^T|A|\\inv A_{ji}\\\\\n",
    "&=|A|\\invt A\n",
    "\\ea$$\n",
    "\n",
    "$$\\pfr{A_{ij}B_{ji}}{A}=e_me_n^T\\pfr{A_{ij}B_{ji}}{A_{mn}}=B_{nm}e_me_n^T=B^T$$\n",
    "\n",
    "$$\\pfr{a^TAa}{a}=e_m\\pfr{a_iA_{ij}a_j}{a_m}=e_m(A_{mj}a_j+a_i A_{im})=(A+A^T)a$$\n",
    "\n",
    "$$\\pfr{a^TAa}{A}=e_me_n^T\\pfr{a_iA_{ij}a_j}{A_{mn}}=aa^T$$\n",
    "\n",
    "$$\\pfr{\\tr AB}{A}=e_me_n^T\\pfr{A_{ij}B_{ji}}{A_{mn}}=e_me_n^TB_{nm}=B^T$$\n",
    "\n",
    "Using these relationships, it is straightforward to MLE"
   ]
  },
  {
   "cell_type": "markdown",
   "metadata": {
    "collapsed": true
   },
   "source": [
    "## Maximal Entropy of Gaussian Dist from Variation\n",
    "Consider entropy\n",
    "$$\\ba\n",
    "S&=-\\int p\\ln p \\dd V-a\\left(\\int p\\dd V-1\\right)-\\sum_i b_i\\left(\\int x_ip\\dd V\\right)\\nl-\\sum_{i,j} C_{ij}\\left(\\int x_ix_jp\\dd V-\\Sigma_{ij}\\right)\\\\\n",
    "&=-\\int (\\ln p+a+b^Tx+x^TCx)p \\dd V+a+\\tr(C\\Sigma)\\\\\n",
    "&=-\\int L(p,x)\\dd x+a+c\n",
    "\\ea$$\n",
    "\n",
    "The Euler-Lagrange equation is\n",
    "$$\\ba\n",
    "\\pfr{L}{p}&=1+a+b^Tx+x^TCx+\\ln p=0\\\\\n",
    "\\Rightarrow p(x)&=\\exp(-1-a-b^Tx-x^TCx)\n",
    "\\ea$$\n",
    "\n",
    "It is a Gaussian distribution, with constraints:\n",
    "$$\\ba\n",
    "\\int p\\dd V&=1\\\\\n",
    "\\int x_ip\\dd V&=0\\\\\n",
    "\\int x_ix_jp\\dd V&=\\Sigma_{ij}\\\\\n",
    "\\ea$$\n",
    "\n",
    "and we can determine $a,b,c$ from constraints. Multivariable case is harder, but the method is the same: using multiplier and EL equation. "
   ]
  },
  {
   "cell_type": "code",
   "execution_count": null,
   "metadata": {
    "collapsed": true
   },
   "outputs": [],
   "source": []
  }
 ],
 "metadata": {
  "kernelspec": {
   "display_name": "Python 3",
   "language": "python",
   "name": "python3"
  },
  "language_info": {
   "codemirror_mode": {
    "name": "ipython",
    "version": 3
   },
   "file_extension": ".py",
   "mimetype": "text/x-python",
   "name": "python",
   "nbconvert_exporter": "python",
   "pygments_lexer": "ipython3",
   "version": "3.6.0"
  }
 },
 "nbformat": 4,
 "nbformat_minor": 2
}
