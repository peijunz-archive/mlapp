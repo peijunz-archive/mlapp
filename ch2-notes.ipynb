{
 "cells": [
  {
   "cell_type": "markdown",
   "metadata": {},
   "source": [
    "# Notes on Chapter 2 Probability\n",
    "+ date: 2017-03-08\n",
    "+ tags: mlapp, statistics\n",
    "+ slug: mlapp-ch2-notes"
   ]
  },
  {
   "cell_type": "markdown",
   "metadata": {},
   "source": [
    "<span class=\"mathmacros\" style=\"display:none;\">\n",
    "$\\def\\bra#1{\\mathinner{\\langle{#1}|}}\n",
    "\\def\\ket#1{\\mathinner{|{#1}\\rangle}}\n",
    "\\def\\braket#1{\\mathinner{\\langle{#1}\\rangle}}\n",
    "\\newcommand{\\mdef}{\\overset{\\mathrm{def}}{=}}\n",
    "\\newcommand{\\bm}{\\mathbf}\n",
    "\\DeclareMathOperator{\\Var}{Var} \n",
    "\\DeclareMathOperator{\\det}{det} \n",
    "\\DeclareMathOperator{\\tr}{tr}   \n",
    "\\DeclareMathOperator{\\E}{E}     \n",
    "\\DeclareMathOperator{\\Cov}{Cov} \n",
    "\\DeclareMathOperator{\\Beta}{B}  \n",
    "\\DeclareMathOperator{\\Bdist}{Beta}\n",
    "\\DeclareMathOperator{\\sgn}{sgn}\n",
    "\\DeclareMathOperator{\\adj}{adj}\n",
    "\\DeclareMathOperator{\\ii}{i}   \n",
    "\\DeclareMathOperator{\\dd}{d}   \n",
    "\\newcommand{\\pp}{\\partial}   \n",
    "\\DeclareMathOperator{\\rhs}{RHS}\n",
    "\\DeclareMathOperator{\\lhs}{LHS}\n",
    "\\DeclareMathOperator{\\Beta}{B}$\n",
    "</span>"
   ]
  },
  {
   "cell_type": "markdown",
   "metadata": {},
   "source": [
    "## Multinomial Integral\n",
    "For a group of variables $x_i>0$ with constraint $\\sum_{i=1}^{n} x_i$. We define tail sum of exponents $p_i>0$ to be $S_k=\\sum_{i=k}^n p_i$, and $T_k=\\sum_{i=k}^{n} x_i$. Define Integral operator\n",
    "$$\\hat \\int_k=\\prod_{i=1}^k\\int_0^{1-S_{i-1}} x_i^{p_i-1}dx_i$$\n",
    "we can write multi-integral:\n",
    "\n",
    "\\begin{align}\n",
    "\\Beta(\\mathbf{p})\n",
    "&=\\hat\\int_n \\delta\\left(1-S_n\\right)=\\hat \\int_{n-1}(1-S_{n-1})^{T_n-1}\\\\\n",
    "&=\\Beta(T_n,p_{n-1})\\hat \\int_{n-2} (1-S_{n-2})^{T_{n-1}-1}\\\\\n",
    "&=\\prod_{i=1}^{n-1}\\Beta(T_{i+1},p_i)=\\prod_{i=1}^{n-1}\\frac{\\Gamma(T_{i+1})}{\\Gamma(T_i)}\\Gamma(p_i)\\\\\n",
    "&=\\frac{\\Gamma(T_n)}{\\Gamma(T_1)}\\prod_{i=1}^{n-1}\\Gamma(p_i)=\\frac{\\prod_i\\Gamma(p_i)}{\\Gamma(\\sum_i p_i)}\n",
    "\\end{align}\n",
    "\n",
    "If we have $\\mathbf{p'}=\\mathbf{p}+(1,0,\\ldots,0)$, then\n",
    "$$\\Beta(\\mathbf{p'})=\\frac{p_0}{\\sum p_i}\\Beta(\\mathbf{p})$$"
   ]
  },
  {
   "cell_type": "code",
   "execution_count": null,
   "metadata": {
    "collapsed": true
   },
   "outputs": [],
   "source": []
  }
 ],
 "metadata": {
  "kernelspec": {
   "display_name": "Python 3",
   "language": "python",
   "name": "python3"
  },
  "language_info": {
   "codemirror_mode": {
    "name": "ipython",
    "version": 3
   },
   "file_extension": ".py",
   "mimetype": "text/x-python",
   "name": "python",
   "nbconvert_exporter": "python",
   "pygments_lexer": "ipython3",
   "version": "3.6.1"
  }
 },
 "nbformat": 4,
 "nbformat_minor": 2
}
